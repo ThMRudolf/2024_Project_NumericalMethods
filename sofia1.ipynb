{
 "cells": [
  {
   "cell_type": "markdown",
   "metadata": {},
   "source": [
    "# Optimización Bayesiana de hiperparámetros para modelos de Machine Learning "
   ]
  },
  {
   "cell_type": "markdown",
   "metadata": {},
   "source": [
    "https://towardsdatascience.com/a-conceptual-explanation-of-bayesian-model-based-hyperparameter-optimization-for-machine-learning-b8172278050f"
   ]
  },
  {
   "cell_type": "markdown",
   "metadata": {},
   "source": [
    "**Teoría de la Optimización Bayesiana**\n",
    "La Optimización Bayesiana es una técnica que utiliza un modelo probabilístico para encontrar el mínimo o máximo de una función objetivo que es costosa de evaluar. En este caso, optimizaremos los hiperparámetros del modelo de Ridge Regression para minimizar el error cuadrático medio (MSE)."
   ]
  },
  {
   "cell_type": "markdown",
   "metadata": {},
   "source": [
    "**Elementos principales:**\n",
    "\n",
    "**Espacio de búsqueda:** Define el rango de valores de los hiperparámetros. Por ejemplo, alpha para Ridge Regression.\n",
    "**Modelo de reemplazo (surrogate):** Una función probabilística (generalmente un Gaussian Process) que modela la función objetivo y predice el rendimiento.\n",
    "**Función de adquisición:** Selecciona el siguiente conjunto de hiperparámetros a probar, balanceando exploración (buscar áreas desconocidas) y explotación (refinar áreas prometedoras).\n"
   ]
  },
  {
   "cell_type": "markdown",
   "metadata": {},
   "source": [
    "**Problema**: Predicción de precios de vivienda en California\n",
    "\n",
    "Queremos optimizar el hiperparámetro `alpha` del modelo de Ridge Regression para predecir precios de vivienda basándonos en características como ingresos promedio, edad de las viviendas y número promedio de habitaciones.\n",
    "\n",
    "### Modelaje matemático\n",
    "\n",
    "El modelo se basa en la regresión lineal regularizada:\n",
    "\n",
    "$$\n",
    "\\hat{y} = X \\beta + \\epsilon\n",
    "$$\n",
    "\n",
    "donde:\n",
    "\n",
    "- **$X$** son las características del dataset.\n",
    "- **$\\beta$** son los coeficientes del modelo.\n",
    "- **$\\epsilon$** es el error aleatorio.\n",
    "\n",
    "La función de pérdida incluye un término de regularización:\n",
    "\n",
    "$$\n",
    "\\mathcal{L}(\\beta, \\alpha) = \\| y - X \\beta \\|_2^2 + \\alpha \\| \\beta \\|_2^2\n",
    "$$\n",
    "\n",
    "donde $\\alpha > 0$ controla la regularización.\n"
   ]
  },
  {
   "cell_type": "markdown",
   "metadata": {},
   "source": [
    "**Función de pérdida en Ridge Regression**\n",
    "\n",
    "Ridge Regression modifica la función de pérdida añadiendo un término de regularización $L_2$ que penaliza los coeficientes grandes:\n",
    "\n",
    "$$\n",
    "\\mathcal{L}(\\beta, \\alpha) = \\| y - X\\beta \\|_2^2 + \\alpha \\| \\beta \\|_2^2\n",
    "$$\n",
    "\n",
    "1. **Error de ajuste ($\\| y - X\\beta \\|_2^2$):**\n",
    "   - Mide qué tan bien el modelo se ajusta a los datos, minimizando la diferencia entre las predicciones $\\hat{y}$ y los valores reales $y$.\n",
    "\n",
    "2. **Regularización ($\\alpha \\| \\beta \\|_2^2$):**\n",
    "   - Penaliza el tamaño de los coeficientes $\\beta$. Cuanto más grandes sean, mayor será la penalización.\n",
    "   - El hiperparámetro $\\alpha$ controla la fuerza de esta penalización:\n",
    "     - Si $\\alpha = 0$: El modelo se convierte en una regresión lineal estándar.\n",
    "     - Si $\\alpha$ es muy grande: La penalización domina y los coeficientes $\\beta$ se reducen, lo que puede llevar a un modelo subajustado (*underfitting*).\n",
    "\n",
    "**Propósito de la regularización:**\n",
    "- Evitar que los coeficientes crezcan descontroladamente, especialmente en presencia de multicolinealidad o muchas variables irrelevantes.\n",
    "- Mejorar la **generalización** del modelo, es decir, su capacidad para funcionar bien con datos nuevos.\n"
   ]
  },
  {
   "cell_type": "code",
   "execution_count": 2,
   "metadata": {},
   "outputs": [],
   "source": [
    "import pandas as pd\n",
    "from sklearn.datasets import fetch_california_housing\n",
    "import numpy as np\n",
    "from sklearn.model_selection import train_test_split\n",
    "from sklearn.preprocessing import StandardScaler\n",
    "from sklearn.linear_model import LinearRegression\n",
    "from sklearn.metrics import mean_squared_error\n",
    "from sklearn.metrics import mean_absolute_error\n",
    "from sklearn.linear_model import Ridge\n",
    "from skopt import BayesSearchCV\n"
   ]
  },
  {
   "cell_type": "code",
   "execution_count": 3,
   "metadata": {},
   "outputs": [
    {
     "name": "stdout",
     "output_type": "stream",
     "text": [
      "   MedInc  HouseAge  AveRooms  AveBedrms  Population  AveOccup  Latitude  \\\n",
      "0  8.3252      41.0  6.984127   1.023810       322.0  2.555556     37.88   \n",
      "1  8.3014      21.0  6.238137   0.971880      2401.0  2.109842     37.86   \n",
      "2  7.2574      52.0  8.288136   1.073446       496.0  2.802260     37.85   \n",
      "3  5.6431      52.0  5.817352   1.073059       558.0  2.547945     37.85   \n",
      "4  3.8462      52.0  6.281853   1.081081       565.0  2.181467     37.85   \n",
      "\n",
      "   Longitude  target  \n",
      "0    -122.23   4.526  \n",
      "1    -122.22   3.585  \n",
      "2    -122.24   3.521  \n",
      "3    -122.25   3.413  \n",
      "4    -122.25   3.422  \n"
     ]
    }
   ],
   "source": [
    "# Cargar dataset\n",
    "data = fetch_california_housing()\n",
    "X, y = data.data, data.target\n",
    "\n",
    "# Convertir a DataFrame (opcional para análisis exploratorio)\n",
    "df = pd.DataFrame(X, columns=data.feature_names)\n",
    "df['target'] = y\n",
    "\n",
    "# Mostrar las primeras filas\n",
    "print(df.head())  # Visualizar datos\n",
    "\n"
   ]
  },
  {
   "cell_type": "code",
   "execution_count": 4,
   "metadata": {},
   "outputs": [
    {
     "data": {
      "text/plain": [
       "Index(['MedInc', 'HouseAge', 'AveRooms', 'AveBedrms', 'Population', 'AveOccup',\n",
       "       'Latitude', 'Longitude', 'target'],\n",
       "      dtype='object')"
      ]
     },
     "execution_count": 4,
     "metadata": {},
     "output_type": "execute_result"
    }
   ],
   "source": [
    "df.columns\n"
   ]
  },
  {
   "cell_type": "code",
   "execution_count": 5,
   "metadata": {},
   "outputs": [],
   "source": [
    "from sklearn.linear_model import Ridge\n",
    "\n",
    "# Definir el modelo base\n",
    "ridge = Ridge()\n"
   ]
  },
  {
   "cell_type": "code",
   "execution_count": 6,
   "metadata": {},
   "outputs": [],
   "source": [
    "from skopt import BayesSearchCV\n",
    "\n",
    "# Espacio de búsqueda para el hiperparámetro alpha\n",
    "search_space = {\n",
    "    'alpha': (1e-3, 1e+3, 'log-uniform')  # Rango en escala logarítmica\n",
    "}\n",
    "\n",
    "# Configuración de BayesSearchCV\n",
    "opt = BayesSearchCV(\n",
    "    estimator=ridge,              # Modelo base\n",
    "    search_spaces=search_space,   # Espacio de búsqueda\n",
    "    n_iter=30,                    # Número de iteraciones\n",
    "    cv=5,                         # Validación cruzada\n",
    "    scoring='neg_mean_squared_error',  # Métrica\n",
    "    n_jobs=-1                     # Paralelización\n",
    ")\n"
   ]
  },
  {
   "cell_type": "code",
   "execution_count": 7,
   "metadata": {},
   "outputs": [
    {
     "name": "stdout",
     "output_type": "stream",
     "text": [
      "Mejor valor de alpha: 68.43854218739399\n",
      "Mejor puntuación (MSE negativo): -0.5579299076270191\n"
     ]
    }
   ],
   "source": [
    "# Entrenar la optimización\n",
    "opt.fit(X, y)\n",
    "\n",
    "# Resultados de la optimización\n",
    "print(\"Mejor valor de alpha:\", opt.best_params_['alpha'])\n",
    "print(\"Mejor puntuación (MSE negativo):\", opt.best_score_)\n"
   ]
  },
  {
   "cell_type": "code",
   "execution_count": 8,
   "metadata": {},
   "outputs": [
    {
     "data": {
      "image/png": "[encoded data removed]",
      "text/plain": [
       "<Figure size 640x480 with 1 Axes>"
      ]
     },
     "metadata": {},
     "output_type": "display_data"
    }
   ],
   "source": [
    "import matplotlib.pyplot as plt\n",
    "import numpy as np\n",
    "\n",
    "# Obtener resultados\n",
    "scores = opt.cv_results_['mean_test_score']\n",
    "iterations = np.arange(1, len(scores) + 1)\n",
    "\n",
    "# Graficar la evolución del MSE\n",
    "plt.plot(iterations, -scores)  # Convertir MSE negativo a positivo\n",
    "plt.xlabel('Iteraciones')\n",
    "plt.ylabel('MSE')\n",
    "plt.title('Evolución del MSE durante la Optimización')\n",
    "plt.show()\n"
   ]
  },
  {
   "cell_type": "code",
   "execution_count": 9,
   "metadata": {},
   "outputs": [
    {
     "name": "stdout",
     "output_type": "stream",
     "text": [
      "MSE (Default alpha): 0.5558034669932188\n",
      "MSE (Optimized alpha): 0.5511748218415784\n"
     ]
    }
   ],
   "source": [
    "from sklearn.model_selection import train_test_split\n",
    "from sklearn.metrics import mean_squared_error\n",
    "\n",
    "# Dividir en conjuntos de entrenamiento y prueba\n",
    "X_train, X_test, y_train, y_test = train_test_split(X, y, test_size=0.2, random_state=42)\n",
    "\n",
    "# Modelo con alpha predeterminado\n",
    "ridge_default = Ridge(alpha=1.0)\n",
    "ridge_default.fit(X_train, y_train)\n",
    "y_pred_default = ridge_default.predict(X_test)\n",
    "mse_default = mean_squared_error(y_test, y_pred_default)\n",
    "\n",
    "# Modelo con alpha optimizado\n",
    "ridge_optimized = Ridge(alpha=opt.best_params_['alpha'])\n",
    "ridge_optimized.fit(X_train, y_train)\n",
    "y_pred_optimized = ridge_optimized.predict(X_test)\n",
    "mse_optimized = mean_squared_error(y_test, y_pred_optimized)\n",
    "\n",
    "print(\"MSE (Default alpha):\", mse_default)\n",
    "print(\"MSE (Optimized alpha):\", mse_optimized)\n"
   ]
  }
 ],
 "metadata": {
  "kernelspec": {
   "display_name": "base",
   "language": "python",
   "name": "python3"
  },
  "language_info": {
   "codemirror_mode": {
    "name": "ipython",
    "version": 3
   },
   "file_extension": ".py",
   "mimetype": "text/x-python",
   "name": "python",
   "nbconvert_exporter": "python",
   "pygments_lexer": "ipython3",
   "version": "3.12.7"
  }
 },
 "nbformat": 4,
 "nbformat_minor": 2
}
